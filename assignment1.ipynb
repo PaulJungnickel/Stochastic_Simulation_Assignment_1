{
 "cells": [
  {
   "cell_type": "code",
   "execution_count": null,
   "metadata": {},
   "outputs": [],
   "source": [
    "import os\n",
    "import random\n",
    "import numpy as np\n",
    "import pandas as pd\n",
    "import matplotlib.pyplot as plt\n",
    "from scipy import stats\n",
    "from mpl_toolkits.mplot3d import Axes3D\n",
    "\n",
    "\n",
    "# Own utility methods:\n",
    "from mandelbrot import *\n",
    "from sampling_methods import *"
   ]
  },
  {
   "cell_type": "markdown",
   "metadata": {},
   "source": [
    "# 1.1\n",
    "We create an image of the mandelbrot set by applying the mandelbrot iteration 1000 times to a grid of complex numbers and plotting the number of iterations until divergence for each pixel."
   ]
  },
  {
   "cell_type": "code",
   "execution_count": null,
   "metadata": {},
   "outputs": [],
   "source": [
    "\n",
    "def plot_mandelbrot(num_div_steps, cmap='viridis'):\n",
    "    plt.imshow(num_div_steps, cmap=cmap)\n",
    "    plt.xlabel('Real Part')\n",
    "    plt.ylabel('Imaginary Part')\n",
    "    plt.colorbar(label='Divergence Steps')\n",
    "    plt.title('Mandelbrot Set Divergence Visualization')\n",
    "    plt.show()\n",
    "    \n",
    "    \n",
    "\n",
    "resolution = 1000\n",
    "C = generate_complex_grid(resolution)\n",
    "num_div_steps, _ = compute_mandelbrot_torch(C, max_steps=500, bound=10)\n",
    "plot_mandelbrot(num_div_steps)"
   ]
  },
  {
   "cell_type": "markdown",
   "metadata": {},
   "source": [
    "We also zoom into the Mandelbrot set revealing the  intricate, self-similar patterns, enhancing visual understanding of its fractal nature.\n",
    "\n",
    "The names of the parts we zoom into:\n",
    "- Seahorse Valley\n",
    "- Elephants Valley\n",
    "- Spiral Region"
   ]
  },
  {
   "cell_type": "code",
   "execution_count": null,
   "metadata": {},
   "outputs": [],
   "source": [
    "# Modify these parameters for zooming\n",
    "zoom_center = (-0.75, 0.1)  # Seahorse Valley\n",
    "zoom_level = 0.1  # Smaller values for deeper zooms\n",
    "\n",
    "# Compute ranges for the zoomed-in area\n",
    "real_range = (zoom_center[0] - zoom_level, zoom_center[0] + zoom_level)\n",
    "imag_range = (zoom_center[1] - zoom_level, zoom_center[1] + zoom_level)\n",
    "\n",
    "# Generate the grid with the new zoomed-in ranges\n",
    "resolution = 1000\n",
    "C = generate_complex_grid(resolution, real_range=real_range, imag_range=imag_range)\n",
    "\n",
    "# Compute the Mandelbrot set with a high number of steps for detailed structure\n",
    "num_div_steps, area_at_step = compute_mandelbrot(C, max_steps=1000, bound=10)\n",
    "\n",
    "# Plot the result\n",
    "plot_mandelbrot(num_div_steps, cmap='viridis')  "
   ]
  },
  {
   "cell_type": "code",
   "execution_count": null,
   "metadata": {},
   "outputs": [],
   "source": [
    "# Modify these parameters for zooming\n",
    "zoom_center = (0.3, -0.05) # Elephants Valley\n",
    "zoom_level = 0.05  # Smaller values for deeper zooms \n",
    "\n",
    "# Compute ranges for the zoomed-in area\n",
    "real_range = (zoom_center[0] - zoom_level, zoom_center[0] + zoom_level)\n",
    "imag_range = (zoom_center[1] - zoom_level, zoom_center[1] + zoom_level)\n",
    "\n",
    "# Generate the grid with the new zoomed-in ranges\n",
    "resolution = 1000\n",
    "C = generate_complex_grid(resolution, real_range=real_range, imag_range=imag_range)\n",
    "\n",
    "# Compute the Mandelbrot set with a high number of steps for detailed structure\n",
    "num_div_steps, area_at_step = compute_mandelbrot(C, max_steps=1000, bound=10)\n",
    "\n",
    "# Plot the result\n",
    "plot_mandelbrot(num_div_steps, cmap='viridis')  # Change colormap for different aesthetics"
   ]
  },
  {
   "cell_type": "code",
   "execution_count": null,
   "metadata": {},
   "outputs": [],
   "source": [
    "# Modify these parameters for zooming\n",
    "zoom_center = (-0.7, 0.3) # Spiral Region\n",
    "zoom_level = 0.05  # Smaller values for deeper zooms \n",
    "\n",
    "# Compute ranges for the zoomed-in area\n",
    "real_range = (zoom_center[0] - zoom_level, zoom_center[0] + zoom_level)\n",
    "imag_range = (zoom_center[1] - zoom_level, zoom_center[1] + zoom_level)\n",
    "\n",
    "# Generate the grid with the new zoomed-in ranges\n",
    "resolution = 2000\n",
    "C = generate_complex_grid(resolution, real_range=real_range, imag_range=imag_range)\n",
    "\n",
    "# Compute the Mandelbrot set with a high number of steps for detailed structure\n",
    "num_div_steps, area_at_step = compute_mandelbrot(C, max_steps=1000, bound=10)\n",
    "\n",
    "# Plot the result\n",
    "plot_mandelbrot(num_div_steps, cmap='viridis')  # Change colormap for different aesthetics"
   ]
  },
  {
   "cell_type": "markdown",
   "metadata": {},
   "source": [
    "# 1.2\n",
    "Convergence of the Area estimate with the number of iterations"
   ]
  },
  {
   "cell_type": "code",
   "execution_count": null,
   "metadata": {},
   "outputs": [],
   "source": [
    "\n",
    "def plot_mandelbrot_area_difference(sample_sizes, iteration_count, skip_iterations = 0, save_plot_as = 'mandelbrot-convergence-iterations.png'):\n",
    "    area_estimates = np.zeros((len(sample_sizes), iteration_count))\n",
    "\n",
    "    for i, num_samples in enumerate(sample_sizes):\n",
    "        C = uniform_random_sampling(num_samples, (-2,2),(-2,2))\n",
    "        _, area_est = compute_mandelbrot_torch(C, iteration_count, area_factor=16 )\n",
    "        area_estimates[i,:] = area_est\n",
    "\n",
    "    plt.figure(figsize=(10, 5))\n",
    "    for i, samples in enumerate(sample_sizes):\n",
    "        plt.plot(np.arange(iteration_count)[skip_iterations:]+1, np.abs(area_estimates[i,-1] - area_estimates[i, skip_iterations:]), label=f's = {samples}')\n",
    "\n",
    "    plt.xlabel('Iteration j')\n",
    "    plt.ylabel(r'$A_{j, s} - A_{i, s}$')\n",
    "    plt.title('Convergence of Estimated Area depending on Iteration Count')\n",
    "    plt.legend()\n",
    "    plt.xscale('log')\n",
    "    plt.yscale('log')\n",
    "    plt.grid(True)\n",
    "    full_path = os.path.join('plots', save_plot_as)\n",
    "    plt.savefig(full_path, dpi=600)\n",
    "    plt.show()\n",
    "\n",
    "    return area_estimates\n",
    "\n",
    "\n",
    "\n",
    "\n",
    "# Parameters used for the plot in the report (runs for over 1 hour):\n",
    "# sample_sizes = [1000, 10000, 100000, 1000000]\n",
    "# iteration_count = 5000000\n",
    "\n",
    "# example with lower run time\n",
    "sample_sizes = [1000, 10000, 100000]\n",
    "iteration_count = 10000\n",
    "\n",
    "plot_mandelbrot_area_difference(sample_sizes, iteration_count)"
   ]
  },
  {
   "cell_type": "markdown",
   "metadata": {},
   "source": [
    "Hoeffding's inequality:\n",
    "\n",
    "for a series of independent random variables $X_i \\in [0,1]$  writing $S_n = \\frac1n\\sum_{i=1}^n X_i$\n",
    "\\begin{align}\n",
    "     P(|S_n - E[S_n]| \\geq \\varepsilon) \\leq 2 exp \\left(-2\\varepsilon^2 n\\right) &\\leq \\delta\\\\\n",
    "     {2\\varepsilon^2n} &\\leq -log(\\delta / 2) \\\\\n",
    "    \\varepsilon &\\leq \\sqrt{-\\frac 1{2n} log(\\delta / 2)}\n",
    "\\end{align}"
   ]
  },
  {
   "cell_type": "markdown",
   "metadata": {},
   "source": [
    "Convergence with number of samples"
   ]
  },
  {
   "cell_type": "code",
   "execution_count": null,
   "metadata": {},
   "outputs": [],
   "source": [
    "def plot_mandelbrot_area_difference_sample_count(sample_sizes, iteration_count, sampling_methods, method_titles, save_plot_as = 'images/mandelbrot-convergence-samples.png'):\n",
    "    area_estimates = np.zeros((len(sampling_methods), len(sample_sizes)))\n",
    "\n",
    "    for m, method in enumerate(sampling_methods):\n",
    "        for i, num_samples in enumerate(sample_sizes):\n",
    "            C = method(num_samples, (-2,2),(-2,2))\n",
    "            _, area_est = compute_mandelbrot_torch(C, iteration_count, area_factor=16 )\n",
    "            area_estimates[m, i] = area_est[-1]\n",
    "\n",
    "\n",
    "\n",
    "    plt.figure(figsize=(10, 5))\n",
    "    \n",
    "    markers=['o', 'v', '^','s', 'p' ]   \n",
    "\n",
    "    for m, method in enumerate(sampling_methods):\n",
    "        plt.plot(sample_sizes[:-1], np.abs(area_estimates[m, :-1] - area_estimates[m, -1]), label=method_titles[m], marker = markers[m] )\n",
    "\n",
    "    plt.xlabel('Sample Size s')\n",
    "    plt.ylabel(r'$A_{i, s} - A_{i, s_{max}}$')\n",
    "    plt.title('Convergence of Estimated Area depending on Sample Size')\n",
    "    plt.legend()\n",
    "    plt.xscale('log')\n",
    "    plt.yscale('log')\n",
    "    plt.grid(True)\n",
    "    \n",
    "    full_path = os.path.join('plots', save_plot_as)\n",
    "    plt.savefig(full_path, dpi=600)\n",
    "    plt.show()\n",
    "\n",
    "    return area_estimates\n",
    "\n",
    "\n",
    "\n",
    "sample_sizes = np.logspace(3, 7, 20, base=10).astype(np.int64)\n",
    "iteration_count = 10000\n",
    "sampling_methods = [ uniform_random_sampling, latin_hypercube_sampling,  orthogonal_sampling]\n",
    "method_titles = [ 'uniform random', 'latin hypercube', 'orthogonal']\n",
    "area_estimates = plot_mandelbrot_area_difference_sample_count(sample_sizes, iteration_count, sampling_methods, method_titles)\n",
    "print(area_estimates)"
   ]
  },
  {
   "cell_type": "markdown",
   "metadata": {},
   "source": [
    "# 1.3\n",
    "In this part we look at different sampling methods to estimate the size of the Mandelbrot set to compare.\n"
   ]
  },
  {
   "cell_type": "markdown",
   "metadata": {},
   "source": [
    " *Pure Random Sampling*"
   ]
  },
  {
   "cell_type": "code",
   "execution_count": null,
   "metadata": {},
   "outputs": [],
   "source": [
    "def plot_sampling_method(C, title, max_steps=1000, area_factor=9, save_plot_as = 'sampling_method'):\n",
    "    \"\"\"\n",
    "    Computes and plots Mandelbrot set divergence steps for a given complex array using a specified sampling method.\n",
    "\n",
    "    Parameters:\n",
    "    - C: 1D array of complex numbers representing the samples.\n",
    "    - title: Title for the plot.\n",
    "    - max_steps: Maximum number of iterations for Mandelbrot computation.\n",
    "    - area_factor: Area factor for the computation.\n",
    "    \"\"\"\n",
    "    num_div_steps, area_at_step = compute_mandelbrot(C, max_steps=max_steps, area_factor=area_factor)\n",
    "\n",
    "    rval, ival = C.real, C.imag\n",
    "    plt.scatter(rval, ival, s=0.1, alpha=0.1, c=num_div_steps)\n",
    "    plt.xlabel('Real Part')\n",
    "    plt.ylabel('Imaginary Part')\n",
    "    plt.title(title)\n",
    "    plt.colorbar(label='Divergence Steps')\n",
    "\n",
    "    full_path = os.path.join('plots', save_plot_as)\n",
    "    plt.savefig(full_path, dpi=600)\n",
    "    plt.show()\n",
    "\n",
    "def pure_random_sampling(num_samples, real_range=(-2, 1), imag_range=(-1.5, 1.5), seed=42):\n",
    "    \"\"\"\n",
    "    Performs pure random sampling for the Mandelbrot set.\n",
    "\n",
    "    Parameters:\n",
    "    - num_samples: Number of samples.\n",
    "    - real_range: Tuple specifying the range for the real axis.\n",
    "    - imag_range: Tuple specifying the range for the imaginary axis.\n",
    "    - seed: Random seed for reproducibility.\n",
    "\n",
    "    Returns:\n",
    "    - C: 1D array of complex numbers representing the samples.\n",
    "    \"\"\"\n",
    "    np.random.seed(seed)\n",
    "    rval = np.random.uniform(real_range[0], real_range[1], num_samples)\n",
    "    ival = np.random.uniform(imag_range[0], imag_range[1], num_samples)\n",
    "    return rval + 1.j * ival\n",
    "\n",
    "# Example Usage\n",
    "C = pure_random_sampling(num_samples=100000)\n",
    "plot_sampling_method(C, \"Mandelbrot Set Divergence Steps (Pure Random Sampling)\", save_plot_as = 'pure_random_sampling')"
   ]
  },
  {
   "cell_type": "markdown",
   "metadata": {},
   "source": [
    "*Orthogonal Sampling*"
   ]
  },
  {
   "cell_type": "code",
   "execution_count": null,
   "metadata": {},
   "outputs": [],
   "source": [
    "def orthogonal_sampling(num_samples, real_range=(-2, 1), imag_range=(-1.5, 1.5), seed=42):\n",
    "    \"\"\"\n",
    "    Performs orthogonal sampling for the Mandelbrot set, suited for Python while following the logic of the provided C code.\n",
    "\n",
    "    Parameters:\n",
    "    - num_samples: Total number of samples to generate (must be a perfect square).\n",
    "    - real_range: Tuple specifying the range for the real axis.\n",
    "    - imag_range: Tuple specifying the range for the imaginary axis.\n",
    "    - seed: Random seed for reproducibility.\n",
    "\n",
    "    Returns:\n",
    "    - C: 1D array of complex numbers representing the samples.\n",
    "    \"\"\"\n",
    "    np.random.seed(seed)\n",
    "    major = int(np.round(np.sqrt(num_samples)))\n",
    "    num_samples = major * major\n",
    "    print(f\"Adjusted num_samples to {num_samples} to ensure it is a perfect square close to the original value.\")\n",
    "\n",
    "    x_indices = np.arange(major)\n",
    "    y_indices = np.arange(major)\n",
    "\n",
    "    samples = []\n",
    "    for i in range(major):\n",
    "        np.random.shuffle(x_indices)\n",
    "        np.random.shuffle(y_indices)\n",
    "\n",
    "        for j in range(major):\n",
    "            rand_real = np.random.uniform(0, 1)\n",
    "            rand_imag = np.random.uniform(0, 1)\n",
    "\n",
    "            x = real_range[0] + (real_range[1] - real_range[0]) * ((i + rand_real) / major)\n",
    "            y = imag_range[0] + (imag_range[1] - imag_range[0]) * ((j + rand_imag) / major)\n",
    "\n",
    "            samples.append(complex(x, y))\n",
    "\n",
    "    return np.array(samples)\n",
    "\n",
    "\n",
    "# Example Usage\n",
    "C = orthogonal_sampling(num_samples=100000)\n",
    "plot_sampling_method(C, \"Mandelbrot Set Divergence Steps (Orthogonal Sampling)\", save_plot_as='orthogonal_sampling')"
   ]
  },
  {
   "cell_type": "markdown",
   "metadata": {},
   "source": [
    "*Latin HyperCube Sampling*"
   ]
  },
  {
   "cell_type": "code",
   "execution_count": null,
   "metadata": {},
   "outputs": [],
   "source": [
    "def latin_hypercube_sampling(num_samples, real_range=(-2, 1), imag_range=(-1.5, 1.5), seed=42):\n",
    "    \"\"\"\n",
    "    Performs Latin Hypercube sampling for the Mandelbrot set.\n",
    "\n",
    "    Parameters:\n",
    "    - num_samples: Number of samples.\n",
    "    - real_range: Tuple specifying the range for the real axis.\n",
    "    - imag_range: Tuple specifying the range for the imaginary axis.\n",
    "    - seed: Random seed for reproducibility.\n",
    "\n",
    "    Returns:\n",
    "    - C: 1D array of complex numbers representing the samples.\n",
    "    \"\"\"\n",
    "    np.random.seed(seed)\n",
    "    sampler = LatinHypercube(d=2)\n",
    "    lhs_samples = sampler.random(n=num_samples)\n",
    "\n",
    "    scaled_samples = scale(lhs_samples, [real_range[0], imag_range[0]], [real_range[1], imag_range[1]])\n",
    "    rval, ival = scaled_samples[:, 0], scaled_samples[:, 1]\n",
    "    return rval + 1.j * ival\n",
    "\n",
    "# Example Usage\n",
    "C = latin_hypercube_sampling(num_samples=100000)\n",
    "plot_sampling_method(C, \"Mandelbrot Set Divergence Steps (Latin Hypercube Sampling)\", save_plot_as = 'latin_hypercube_sampling')"
   ]
  }
 ],
 "metadata": {
  "kernelspec": {
   "display_name": "base",
   "language": "python",
   "name": "python3"
  },
  "language_info": {
   "codemirror_mode": {
    "name": "ipython",
    "version": 3
   },
   "file_extension": ".py",
   "mimetype": "text/x-python",
   "name": "python",
   "nbconvert_exporter": "python",
   "pygments_lexer": "ipython3",
   "version": "3.9.13"
  }
 },
 "nbformat": 4,
 "nbformat_minor": 2
}
