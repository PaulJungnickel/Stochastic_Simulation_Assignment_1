{
 "cells": [
  {
   "cell_type": "code",
   "execution_count": null,
   "metadata": {},
   "outputs": [],
   "source": [
    "import os\n",
    "import random\n",
    "import numpy as np\n",
    "import pandas as pd\n",
    "import matplotlib.pyplot as plt\n",
    "from scipy import stats\n",
    "from mpl_toolkits.mplot3d import Axes3D\n",
    "\n",
    "\n",
    "# Own utility methods:\n",
    "from mandelbrot import *\n",
    "from sampling_methods import *"
   ]
  },
  {
   "cell_type": "markdown",
   "metadata": {},
   "source": [
    "# 1.1\n",
    "We create an image of the mandelbrot set by applying the mandelbrot iteration 1000 times to a grid of complex numbers and plotting the number of iterations until divergence for each pixel."
   ]
  },
  {
   "cell_type": "code",
   "execution_count": null,
   "metadata": {},
   "outputs": [],
   "source": [
    "\n",
    "def plot_mandelbrot(num_div_steps, cmap='viridis'):\n",
    "    plt.imshow(num_div_steps, cmap=cmap)\n",
    "    plt.xlabel('Real Part')\n",
    "    plt.ylabel('Imaginary Part')\n",
    "    plt.colorbar(label='Divergence Steps')\n",
    "    plt.title('Mandelbrot Set Divergence Visualization')\n",
    "    plt.show()\n",
    "    \n",
    "    \n",
    "\n",
    "resolution = 1000\n",
    "C = generate_complex_grid(resolution)\n",
    "num_div_steps, _ = compute_mandelbrot_torch(C, max_steps=500, bound=10)\n",
    "plot_mandelbrot(num_div_steps)"
   ]
  },
  {
   "cell_type": "markdown",
   "metadata": {},
   "source": [
    "We also zoom into the Mandelbrot set revealing the  intricate, self-similar patterns, enhancing visual understanding of its fractal nature.\n",
    "\n",
    "The names of the parts we zoom into:\n",
    "- Seahorse Valley\n",
    "- Elephants Valley\n",
    "- Spiral Region"
   ]
  },
  {
   "cell_type": "code",
   "execution_count": null,
   "metadata": {},
   "outputs": [],
   "source": [
    "# Modify these parameters for zooming\n",
    "zoom_center = (-0.75, 0.1)  # Seahorse Valley\n",
    "zoom_level = 0.1  # Smaller values for deeper zooms\n",
    "\n",
    "# Compute ranges for the zoomed-in area\n",
    "real_range = (zoom_center[0] - zoom_level, zoom_center[0] + zoom_level)\n",
    "imag_range = (zoom_center[1] - zoom_level, zoom_center[1] + zoom_level)\n",
    "\n",
    "# Generate the grid with the new zoomed-in ranges\n",
    "resolution = 1000\n",
    "C = generate_complex_grid(resolution, real_range=real_range, imag_range=imag_range)\n",
    "\n",
    "# Compute the Mandelbrot set with a high number of steps for detailed structure\n",
    "num_div_steps, area_at_step = compute_mandelbrot(C, max_steps=1000, bound=10)\n",
    "\n",
    "# Plot the result\n",
    "plot_mandelbrot(num_div_steps, cmap='viridis')  "
   ]
  },
  {
   "cell_type": "code",
   "execution_count": null,
   "metadata": {},
   "outputs": [],
   "source": [
    "# Modify these parameters for zooming\n",
    "zoom_center = (0.3, -0.05) # Elephants Valley\n",
    "zoom_level = 0.05  # Smaller values for deeper zooms \n",
    "\n",
    "# Compute ranges for the zoomed-in area\n",
    "real_range = (zoom_center[0] - zoom_level, zoom_center[0] + zoom_level)\n",
    "imag_range = (zoom_center[1] - zoom_level, zoom_center[1] + zoom_level)\n",
    "\n",
    "# Generate the grid with the new zoomed-in ranges\n",
    "resolution = 1000\n",
    "C = generate_complex_grid(resolution, real_range=real_range, imag_range=imag_range)\n",
    "\n",
    "# Compute the Mandelbrot set with a high number of steps for detailed structure\n",
    "num_div_steps, area_at_step = compute_mandelbrot(C, max_steps=1000, bound=10)\n",
    "\n",
    "# Plot the result\n",
    "plot_mandelbrot(num_div_steps, cmap='viridis')  # Change colormap for different aesthetics"
   ]
  },
  {
   "cell_type": "code",
   "execution_count": null,
   "metadata": {},
   "outputs": [],
   "source": [
    "# Modify these parameters for zooming\n",
    "zoom_center = (-0.7, 0.3) # Spiral Region\n",
    "zoom_level = 0.05  # Smaller values for deeper zooms \n",
    "\n",
    "# Compute ranges for the zoomed-in area\n",
    "real_range = (zoom_center[0] - zoom_level, zoom_center[0] + zoom_level)\n",
    "imag_range = (zoom_center[1] - zoom_level, zoom_center[1] + zoom_level)\n",
    "\n",
    "# Generate the grid with the new zoomed-in ranges\n",
    "resolution = 2000\n",
    "C = generate_complex_grid(resolution, real_range=real_range, imag_range=imag_range)\n",
    "\n",
    "# Compute the Mandelbrot set with a high number of steps for detailed structure\n",
    "num_div_steps, area_at_step = compute_mandelbrot(C, max_steps=1000, bound=10)\n",
    "\n",
    "# Plot the result\n",
    "plot_mandelbrot(num_div_steps, cmap='viridis')  # Change colormap for different aesthetics"
   ]
  },
  {
   "cell_type": "markdown",
   "metadata": {},
   "source": [
    "# 1.2\n",
    "Convergence of the Area estimate with the number of iterations"
   ]
  },
  {
   "cell_type": "code",
   "execution_count": null,
   "metadata": {},
   "outputs": [],
   "source": [
    "\n",
    "def plot_mandelbrot_area_difference(sample_sizes, iteration_count, skip_iterations = 0, save_plot_as = 'mandelbrot-convergence-iterations.png'):\n",
    "    area_estimates = np.zeros((len(sample_sizes), iteration_count))\n",
    "\n",
    "    for i, num_samples in enumerate(sample_sizes):\n",
    "        C = uniform_random_sampling(num_samples, (-2,2),(-2,2))\n",
    "        _, area_est = compute_mandelbrot_torch(C, iteration_count, area_factor=16 )\n",
    "        area_estimates[i,:] = area_est\n",
    "\n",
    "    plt.figure(figsize=(10, 5))\n",
    "    for i, samples in enumerate(sample_sizes):\n",
    "        plt.plot(np.arange(iteration_count)[skip_iterations:]+1, np.abs(area_estimates[i,-1] - area_estimates[i, skip_iterations:]), label=f's = {samples}')\n",
    "\n",
    "    plt.xlabel('Iteration j')\n",
    "    plt.ylabel(r'$A_{j, s} - A_{i, s}$')\n",
    "    plt.title('Convergence of Estimated Area depending on Iteration Count')\n",
    "    plt.legend()\n",
    "    plt.xscale('log')\n",
    "    plt.yscale('log')\n",
    "    plt.grid(True)\n",
    "    full_path = os.path.join('plots', save_plot_as)\n",
    "    plt.savefig(full_path, dpi=600)\n",
    "    plt.show()\n",
    "\n",
    "    return area_estimates\n",
    "\n",
    "\n",
    "\n",
    "\n",
    "# Parameters used for the plot in the report (runs for over 1 hour):\n",
    "# sample_sizes = [1000, 10000, 100000, 1000000]\n",
    "# iteration_count = 5000000\n",
    "\n",
    "# example with lower run time\n",
    "sample_sizes = [1000, 10000, 100000]\n",
    "iteration_count = 10000\n",
    "\n",
    "plot_mandelbrot_area_difference(sample_sizes, iteration_count)"
   ]
  },
  {
   "cell_type": "markdown",
   "metadata": {},
   "source": [
    "Hoeffding's inequality:\n",
    "\n",
    "for a series of independent random variables $X_i \\in [0,1]$  writing $S_n = \\frac1n\\sum_{i=1}^n X_i$\n",
    "\\begin{align}\n",
    "     P(|S_n - E[S_n]| \\geq \\varepsilon) \\leq 2 exp \\left(-2\\varepsilon^2 n\\right) &\\leq \\delta\\\\\n",
    "     {2\\varepsilon^2n} &\\leq -log(\\delta / 2) \\\\\n",
    "    \\varepsilon &\\leq \\sqrt{-\\frac 1{2n} log(\\delta / 2)}\n",
    "\\end{align}"
   ]
  },
  {
   "cell_type": "markdown",
   "metadata": {},
   "source": [
    "Convergence with number of samples"
   ]
  },
  {
   "cell_type": "code",
   "execution_count": null,
   "metadata": {},
   "outputs": [],
   "source": [
    "def plot_mandelbrot_area_difference_sample_count(sample_sizes, iteration_count, sampling_methods, method_titles, save_plot_as = 'images/mandelbrot-convergence-samples.png'):\n",
    "    area_estimates = np.zeros((len(sampling_methods), len(sample_sizes)))\n",
    "\n",
    "    for m, method in enumerate(sampling_methods):\n",
    "        for i, num_samples in enumerate(sample_sizes):\n",
    "            C = method(num_samples, (-2,2),(-2,2))\n",
    "            _, area_est = compute_mandelbrot_torch(C, iteration_count, area_factor=16 )\n",
    "            area_estimates[m, i] = area_est[-1]\n",
    "\n",
    "\n",
    "\n",
    "    plt.figure(figsize=(10, 5))\n",
    "    \n",
    "    markers=['o', 'v', '^','s', 'p' ]   \n",
    "\n",
    "    for m, method in enumerate(sampling_methods):\n",
    "        plt.plot(sample_sizes[:-1], np.abs(area_estimates[m, :-1] - area_estimates[m, -1]), label=method_titles[m], marker = markers[m] )\n",
    "\n",
    "    plt.xlabel('Sample Size s')\n",
    "    plt.ylabel(r'$A_{i, s} - A_{i, s_{max}}$')\n",
    "    plt.title('Convergence of Estimated Area depending on Sample Size')\n",
    "    plt.legend()\n",
    "    plt.xscale('log')\n",
    "    plt.yscale('log')\n",
    "    plt.grid(True)\n",
    "    \n",
    "    full_path = os.path.join('plots', save_plot_as)\n",
    "    plt.savefig(full_path, dpi=600)\n",
    "    plt.show()\n",
    "\n",
    "    return area_estimates\n",
    "\n",
    "\n",
    "\n",
    "sample_sizes = np.logspace(3, 7, 20, base=10).astype(np.int64)\n",
    "iteration_count = 10000\n",
    "sampling_methods = [ uniform_random_sampling, latin_hypercube_sampling,  orthogonal_sampling]\n",
    "method_titles = [ 'uniform random', 'latin hypercube', 'orthogonal']\n",
    "area_estimates = plot_mandelbrot_area_difference_sample_count(sample_sizes, iteration_count, sampling_methods, method_titles)\n",
    "print(area_estimates)"
   ]
  }
 ],
 "metadata": {
  "kernelspec": {
   "display_name": "base",
   "language": "python",
   "name": "python3"
  },
  "language_info": {
   "codemirror_mode": {
    "name": "ipython",
    "version": 3
   },
   "file_extension": ".py",
   "mimetype": "text/x-python",
   "name": "python",
   "nbconvert_exporter": "python",
   "pygments_lexer": "ipython3",
   "version": "3.9.13"
  }
 },
 "nbformat": 4,
 "nbformat_minor": 2
}
