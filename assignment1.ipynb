{
 "cells": [
  {
   "cell_type": "code",
   "execution_count": null,
   "metadata": {},
   "outputs": [],
   "source": [
    "import numpy as np\n",
    "import pandas as pd\n",
    "import matplotlib.pyplot as plt\n",
    "from scipy import stats\n",
    "from mpl_toolkits.mplot3d import Axes3D\n",
    "from scipy.stats.qmc import LatinHypercube, scale, Sobol\n",
    "import random\n",
    "\n",
    "\n",
    "#own utility methods:\n",
    "from mandelbrot import *\n",
    "from sampling_methods import *"
   ]
  },
  {
   "cell_type": "markdown",
   "metadata": {},
   "source": [
    "# 1.1\n",
    "We create an image of the mandelbrot set by applying the mandelbrot iteration 1000 times to a grid of complex numbers and plotting the number of iterations until divergence for each pixel."
   ]
  },
  {
   "cell_type": "code",
   "execution_count": null,
   "metadata": {},
   "outputs": [],
   "source": [
    "\n",
    "def plot_mandelbrot(num_div_steps, cmap='viridis'):\n",
    "    plt.imshow(num_div_steps, cmap=cmap)\n",
    "    plt.xlabel('Real Part')\n",
    "    plt.ylabel('Imaginary Part')\n",
    "    plt.colorbar(label='Divergence Steps')\n",
    "    plt.title('Mandelbrot Set Divergence Visualization')\n",
    "    plt.show()\n",
    "    \n",
    "    \n",
    "\n",
    "resolution = 1000\n",
    "C = generate_complex_grid(resolution)\n",
    "num_div_steps, _ = compute_mandelbrot_torch(C, max_steps=500, bound=10)\n",
    "plot_mandelbrot(num_div_steps)"
   ]
  },
  {
   "cell_type": "markdown",
   "metadata": {},
   "source": [
    "# 1.2\n",
    "Convergence of the Area estimate with the number of iterations"
   ]
  },
  {
   "cell_type": "code",
   "execution_count": null,
   "metadata": {},
   "outputs": [],
   "source": [
    "\n",
    "def plot_mandelbrot_area_difference(sample_sizes, iteration_count, skip_iterations=0):\n",
    "    area_estimates = np.zeros((len(sample_sizes), iteration_count))\n",
    "\n",
    "    for i, num_samples in enumerate(sample_sizes):\n",
    "        C = uniform_random_sampling(num_samples, (-2,2),(-2,2))\n",
    "        _, area_est = compute_mandelbrot_torch(C, iteration_count, area_factor=16 )\n",
    "        area_estimates[i,:] = area_est\n",
    "\n",
    "    plt.figure(figsize=(10, 5))\n",
    "    for i, samples in enumerate(sample_sizes):\n",
    "        plt.plot(np.arange(iteration_count)[skip_iterations:]+1, np.abs(area_estimates[i,-1] - area_estimates[i, skip_iterations:]), label=f's = {samples}')\n",
    "\n",
    "    plt.xlabel('Iteration j')\n",
    "    plt.ylabel(r'$A_{j, s} - A_{i, s}$')\n",
    "    plt.title('Convergence of Estimated Area depending on Iteration Count')\n",
    "    plt.legend()\n",
    "    plt.xscale('log')\n",
    "    plt.yscale('log')\n",
    "    plt.grid(True)\n",
    "    plt.savefig('mandelbrot-convergence-iterations.png', dpi=600)\n",
    "    plt.show()\n",
    "\n",
    "    return area_estimates\n",
    "\n",
    "\n",
    "\n",
    "\n",
    "#parameters used for the plot in the report, runs for over 1 hour\n",
    "# sample_sizes = [1000, 10000, 100000, 1000000]\n",
    "# iteration_count = 5000000\n",
    "sample_sizes = [1000, 10000, 100000]\n",
    "iteration_count = 10000\n",
    "\n",
    "plot_mandelbrot_area_difference(sample_sizes, iteration_count)"
   ]
  }
 ],
 "metadata": {
  "kernelspec": {
   "display_name": "base",
   "language": "python",
   "name": "python3"
  },
  "language_info": {
   "codemirror_mode": {
    "name": "ipython",
    "version": 3
   },
   "file_extension": ".py",
   "mimetype": "text/x-python",
   "name": "python",
   "nbconvert_exporter": "python",
   "pygments_lexer": "ipython3",
   "version": "3.9.13"
  }
 },
 "nbformat": 4,
 "nbformat_minor": 2
}
